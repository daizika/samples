{
 "cells": [
  {
   "cell_type": "markdown",
   "metadata": {},
   "source": [
    "# Daizika Edgar API Demo\n",
    "## Prerequisite: httplib2 https://github.com/httplib2/httplib2"
   ]
  },
  {
   "cell_type": "code",
   "execution_count": null,
   "metadata": {
    "collapsed": true
   },
   "outputs": [],
   "source": [
    "import httplib2\n",
    "from urllib.parse import urlencode, quote\n",
    "import json"
   ]
  },
  {
   "cell_type": "code",
   "execution_count": null,
   "metadata": {
    "collapsed": true
   },
   "outputs": [],
   "source": [
    "# Set the base_url\n",
    "base_url = 'https://api.daizika.com/edgar/prod/'\n",
    "\n",
    "# Set your api key\n",
    "x_api_key = 'XXXXXXXXXXXXXXXXXXXXXX'"
   ]
  },
  {
   "cell_type": "code",
   "execution_count": null,
   "metadata": {
    "collapsed": true
   },
   "outputs": [],
   "source": [
    "def get_cik_relevancy(base_url, headers, cik, news=''):    \n",
    "    request_url = \"{}{}/nlp/relevancy\".format(base_url, cik)\n",
    "    json_body = json.dumps(news)\n",
    "\n",
    "    # Create the request processor\n",
    "    http = httplib2.Http()\n",
    "    response, content = http.request(request_url, 'POST', headers=headers, body=json_body)\n",
    "\n",
    "    # Retrieve the JSON \n",
    "    data = json.loads(content)\n",
    "    \n",
    "    found = True\n",
    "    # get the results\n",
    "    if 'message' in data:\n",
    "        found = False\n",
    "    \n",
    "    return found, data\n",
    "\n",
    "def get_cik_distance(base_url, headers, cik, othercik):    \n",
    "    params = {u\"othercik\": othercik}\n",
    "    query_params = urlencode(params, quote_via=quote)\n",
    "    request_url = \"{}{}/nlp/distance?{}\".format(base_url, cik, query_params)\n",
    "\n",
    "    # Create the request processor\n",
    "    http = httplib2.Http()\n",
    "    response, content = http.request(request_url, 'GET', headers=headers)\n",
    "\n",
    "    # Retrieve the JSON \n",
    "    data = json.loads(content)\n",
    "    \n",
    "    found = True\n",
    "    # get the results\n",
    "    if 'message' in data:\n",
    "        found = False\n",
    "    \n",
    "    return found, data"
   ]
  },
  {
   "cell_type": "code",
   "execution_count": null,
   "metadata": {
    "collapsed": true
   },
   "outputs": [],
   "source": [
    "news = \"\"\"Jeff Bezos’ net worth reached $105.1bn (£77bn) Monday on the Bloomberg Billionaires Index as Amazon shares added to a 12-month surge that’s lifted the online shopping giant’s market value by almost 57 per cent.\n",
    "\n",
    "Amazon shares have risen 6.6 per cent this year, with a report showing the Seattle-based company captured 89 per cent of online spending among dominant holiday retailers in the five-week period beginning the day after Thanksgiving in the US.\n",
    "\n",
    "The latest jump has pushed Bezos’ fortune definitively above the high reached by Microsoft’s Bill Gates in 1999.\n",
    "\n",
    "The Amazon founder passed Bill Gates in October with a net worth of $93.8bn and his fortune crossed $100bn for the first time a month later when the holiday shopping season kicked off on Black Friday.\n",
    "\n",
    "Mr Gates, 62, would have a net worth of more than $150bn if he’d held onto assets that he’s given away, largely to the Bill & Melinda Gates Foundation.\n",
    "\n",
    "He has given away almost 700 million Microsoft shares and $2.9bn of cash and other assets since 1996, according to an analysis of his publicly disclosed giving.\n",
    "\n",
    "Mr Bezos also controls closely held space exploration business Blue Origin and the Washington Post.\"\"\"\n"
   ]
  },
  {
   "cell_type": "code",
   "execution_count": null,
   "metadata": {
    "collapsed": true
   },
   "outputs": [],
   "source": [
    "# Querying for the News Relevancy\n",
    "headers = {'Accept': 'application/json'\n",
    "         , 'Content-Type': 'application/json; charset=UTF-8'\n",
    "         , 'x-api-key': x_api_key} \n",
    "\n",
    "cik_to_query = 1018724 #Amazon CIK\n",
    "\n",
    "#Check if the news article is relevant\n",
    "found, data = get_cik_relevancy(base_url, headers, cik=cik_to_query, news=news)"
   ]
  },
  {
   "cell_type": "code",
   "execution_count": null,
   "metadata": {},
   "outputs": [],
   "source": [
    "if found:    \n",
    "    print(data)\n",
    "else:\n",
    "    print(\"No results found\")"
   ]
  },
  {
   "cell_type": "code",
   "execution_count": null,
   "metadata": {},
   "outputs": [],
   "source": [
    "# Querying for the News Relevancy\n",
    "headers = {'Accept': 'application/json'\n",
    "         , 'Content-Type': 'application/json; charset=UTF-8'\n",
    "         , 'x-api-key': x_api_key} \n",
    "cik_to_query = 1018724 #Amazon CIK\n",
    "other_cik = 1652044 # Google CIK\n",
    "found, data = get_cik_distance(base_url, headers, cik=cik_to_query, othercik=other_cik)"
   ]
  },
  {
   "cell_type": "code",
   "execution_count": null,
   "metadata": {},
   "outputs": [],
   "source": [
    "if found:    \n",
    "    print(data)\n",
    "else:\n",
    "    print(\"No results found\")"
   ]
  },
  {
   "cell_type": "code",
   "execution_count": null,
   "metadata": {
    "collapsed": true
   },
   "outputs": [],
   "source": []
  }
 ],
 "metadata": {
  "kernelspec": {
   "display_name": "Python 3",
   "language": "python",
   "name": "python3"
  },
  "language_info": {
   "codemirror_mode": {
    "name": "ipython",
    "version": 3
   },
   "file_extension": ".py",
   "mimetype": "text/x-python",
   "name": "python",
   "nbconvert_exporter": "python",
   "pygments_lexer": "ipython3",
   "version": "3.6.3"
  }
 },
 "nbformat": 4,
 "nbformat_minor": 2
}

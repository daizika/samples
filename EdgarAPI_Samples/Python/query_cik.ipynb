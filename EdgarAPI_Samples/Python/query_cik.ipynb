{
 "cells": [
  {
   "cell_type": "markdown",
   "metadata": {},
   "source": [
    "# Daizika Edgar API Demo\n",
    "## Prerequisite: httplib2 https://github.com/httplib2/httplib2"
   ]
  },
  {
   "cell_type": "code",
   "execution_count": 1,
   "metadata": {
    "collapsed": true
   },
   "outputs": [],
   "source": [
    "import httplib2\n",
    "from urllib.parse import urlencode, quote\n",
    "import json"
   ]
  },
  {
   "cell_type": "code",
   "execution_count": 2,
   "metadata": {
    "collapsed": true
   },
   "outputs": [],
   "source": [
    "# Set the base_url\n",
    "base_url = 'https://api.daizika.com/edgar/test/'\n",
    "\n",
    "# Set your api key\n",
    "x_api_key = 'XXXXXXXXXXXX'"
   ]
  },
  {
   "cell_type": "code",
   "execution_count": 12,
   "metadata": {
    "collapsed": true
   },
   "outputs": [],
   "source": [
    "def get_cik_by_name(base_url, headers, q, cursor=None, start=0, size=25, filterby=None):    \n",
    "    params = {u\"q\":q, u\"start\": start, u\"size\":size, u\"q.parser\":\"simple\", u\"q.options\":'{\"fields\":[\"names\"]}'}\n",
    "    if filterby is not None:\n",
    "        params[u\"fq\"] = \"{}:1\".format(filterby)\n",
    "    if cursor is not None:\n",
    "        params[u\"cursor\"] = cursor\n",
    "    query_params = urlencode(params, quote_via=quote)\n",
    "    request_url = \"{}?{}\".format(base_url, query_params)\n",
    "    \n",
    "    # Create the request processor\n",
    "    http = httplib2.Http()\n",
    "    response, content = http.request(request_url, 'GET', headers=headers)\n",
    "\n",
    "    # Retrieve the JSON \n",
    "    found = 0\n",
    "    start = 0\n",
    "    data = None\n",
    "    content_json = json.loads(content.decode('utf-8'))\n",
    "    \n",
    "    # get the results\n",
    "    if 'hits' in content_json and 'found' in content_json['hits']:\n",
    "        found = int(content_json['hits']['found'])\n",
    "        start = int(content_json['hits']['start'])\n",
    "        data = content_json['hits']['hit']\n",
    "    return found, start, data\n",
    "\n",
    "def get_cik_by_cik(base_url, headers, cik, cursor=None, start=0, size=25):    \n",
    "    params = {u\"q\":cik, u\"start\": start, u\"size\":size, u\"q.parser\":\"structured\", u\"q.options\":'{\"fields\":[\"cik\"]}'}\n",
    "    if cursor is not None:\n",
    "        params[u\"cursor\"] = cursor\n",
    "    query_params = urlencode(params, quote_via=quote)\n",
    "    request_url = '{}?{}'.format(base_url, query_params)\n",
    "    \n",
    "    # Create the request processor\n",
    "    http = httplib2.Http()\n",
    "    response, content = http.request(request_url, 'GET', headers=headers)\n",
    "\n",
    "    # Retrieve the JSON \n",
    "    found = 0\n",
    "    start = 0\n",
    "    data = None\n",
    "    content_json = json.loads(content.decode('utf-8'))\n",
    "    \n",
    "    # get the results\n",
    "    if 'hits' in content_json and 'found' in content_json['hits']:\n",
    "        found = int(content_json['hits']['found'])\n",
    "        start = int(content_json['hits']['start'])\n",
    "        data = content_json['hits']['hit']\n",
    "    return found, start, data\n",
    "\n",
    "def get_cik_by_filtercondition(base_url, headers, cursor=None, start=0, size=25, condition_field=\"has_fillings\"):    \n",
    "    params = {u\"q\":\"matchall\", u\"start\": start, u\"size\":size, u\"q.parser\":\"structured\", u\"fq\":\"{}:1\".format(condition_field)}\n",
    "    if cursor is not None:\n",
    "        params[u\"cursor\"] = cursor\n",
    "    query_params = urlencode(params, quote_via=quote)\n",
    "    request_url = '{}?{}'.format(base_url, query_params)\n",
    "    print(request_url)\n",
    "    \n",
    "    # Create the request processor\n",
    "    http = httplib2.Http()\n",
    "    response, content = http.request(request_url, 'GET', headers=headers)\n",
    "\n",
    "    # Retrieve the JSON \n",
    "    found = 0\n",
    "    start = 0\n",
    "    data = None\n",
    "    content_json = json.loads(content.decode('utf-8'))\n",
    "    \n",
    "    # get the results\n",
    "    if 'hits' in content_json and 'found' in content_json['hits']:\n",
    "        found = int(content_json['hits']['found'])\n",
    "        start = int(content_json['hits']['start'])\n",
    "        data = content_json['hits']['hit']\n",
    "    return found, start, data"
   ]
  },
  {
   "cell_type": "code",
   "execution_count": 22,
   "metadata": {},
   "outputs": [
    {
     "name": "stdout",
     "output_type": "stream",
     "text": [
      "No results found\n"
     ]
    }
   ],
   "source": [
    "# Querying for the CIK BY Name\n",
    "headers = {'Accept': 'application/json'\n",
    "         , 'Content-Type': 'application/json; charset=UTF-8'\n",
    "         , 'x-api-key': x_api_key} \n",
    "company_name_to_search = \"*concur*\"\n",
    "\n",
    "# Query the first page\n",
    "found, start, data = get_cik_by_name(base_url, headers, q=company_name_to_search)\n",
    "\n",
    "# Query the next 25 records\n",
    "#found, start, data = get_cik_by_name(base_url, headers, q=company_name_to_search, start=26)\n",
    "\n",
    "# Query using a filterby clause\n",
    "# The following are the valid fields has_fillings, has_metadata and has_namechanges\n",
    "#found, start, data = get_cik_by_name(base_url, headers, q=company_name_to_search, start=26, filterby=\"has_metadata\")\n",
    "\n",
    "# Print the results\n",
    "if found:    \n",
    "    for each_company in data:            \n",
    "        print(each_company)\n",
    "else:\n",
    "    print(\"No results found\")"
   ]
  },
  {
   "cell_type": "code",
   "execution_count": null,
   "metadata": {
    "collapsed": true
   },
   "outputs": [],
   "source": [
    "# Querying for the CIK By CIK\n",
    "headers = {'Accept': 'application/json'\n",
    "         , 'Content-Type': 'application/json; charset=UTF-8'\n",
    "         , 'x-api-key': x_api_key} \n",
    "company_cik_to_search = 1459417\n",
    "\n",
    "# Query the first page\n",
    "found, start, data = get_cik_by_cik(base_url, headers, cik=company_cik_to_search)\n",
    "\n",
    "# Print the results\n",
    "if found:    \n",
    "    for each_company in data:            \n",
    "        print(each_company)\n",
    "else:\n",
    "    print(\"No results found\")\n",
    "    "
   ]
  },
  {
   "cell_type": "code",
   "execution_count": null,
   "metadata": {
    "collapsed": true
   },
   "outputs": [],
   "source": [
    "# Querying for the CIK By Condition\n",
    "headers = {'Accept': 'application/json'\n",
    "         , 'Content-Type': 'application/json; charset=UTF-8'\n",
    "         , 'x-api-key': x_api_key} \n",
    "\n",
    "# Query the first page\n",
    "# The fields that can be filtered are has_fillings, has_metadata and has_namechanges\n",
    "found, start, data = get_cik_by_filtercondition(base_url, headers, condition_field=\"has_metadata\")\n",
    "\n",
    "# Print the results\n",
    "if found:    \n",
    "    for each_company in data:            \n",
    "        print(each_company)\n",
    "else:\n",
    "    print(\"No results found\")"
   ]
  },
  {
   "cell_type": "code",
   "execution_count": null,
   "metadata": {
    "collapsed": true
   },
   "outputs": [],
   "source": []
  }
 ],
 "metadata": {
  "kernelspec": {
   "display_name": "Python 3",
   "language": "python",
   "name": "python3"
  },
  "language_info": {
   "codemirror_mode": {
    "name": "ipython",
    "version": 3
   },
   "file_extension": ".py",
   "mimetype": "text/x-python",
   "name": "python",
   "nbconvert_exporter": "python",
   "pygments_lexer": "ipython3",
   "version": "3.6.3"
  }
 },
 "nbformat": 4,
 "nbformat_minor": 2
}

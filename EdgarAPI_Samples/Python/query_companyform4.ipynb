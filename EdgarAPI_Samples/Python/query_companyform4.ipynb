{
 "cells": [
  {
   "cell_type": "markdown",
   "metadata": {},
   "source": [
    "# Daizika Edgar API Demo\n",
    "## Prerequisite: httplib2 https://github.com/httplib2/httplib2"
   ]
  },
  {
   "cell_type": "code",
   "execution_count": null,
   "metadata": {
    "collapsed": true
   },
   "outputs": [],
   "source": [
    "import httplib2\n",
    "from urllib.parse import urlencode, quote\n",
    "import json"
   ]
  },
  {
   "cell_type": "code",
   "execution_count": null,
   "metadata": {
    "collapsed": true
   },
   "outputs": [],
   "source": [
    "# Set the base_url\n",
    "base_url = 'https://api.daizika.com/edgar/prod/'\n",
    "\n",
    "# Set your api key\n",
    "x_api_key = 'XXXXXXXXXX'\n",
    "\n",
    "# Set your headers\n",
    "headers = {'Accept': 'application/json'\n",
    "         , 'Content-Type': 'application/json; charset=UTF-8'\n",
    "         , 'x-api-key': x_api_key} "
   ]
  },
  {
   "cell_type": "code",
   "execution_count": null,
   "metadata": {
    "collapsed": true
   },
   "outputs": [],
   "source": [
    "def get_cik_fillings(base_url, headers, cik, start=0, size=25):    \n",
    "    params = {u\"start\": start, u\"size\":size}\n",
    "    query_params = urlencode(params, quote_via=quote)\n",
    "    request_url = \"{}{}/fillings?{}\".format(base_url, cik, query_params)\n",
    "\n",
    "    # Create the request processor\n",
    "    http = httplib2.Http()\n",
    "    response, content = http.request(request_url, 'GET', headers=headers)\n",
    "\n",
    "    # Retrieve the JSON \n",
    "    data = json.loads(content)\n",
    "    \n",
    "    found = True\n",
    "    # get the results\n",
    "    if 'message' in data:\n",
    "        found = False\n",
    "    \n",
    "    return found, data\n",
    "\n",
    "def get_cik_form4_data(base_url, headers, cik, year, month, day, accnum):    \n",
    "    params = {u\"year\": year, u\"month\":month, u\"day\": day, u\"accnum\": accnum}\n",
    "    query_params = urlencode(params, quote_via=quote)\n",
    "    request_url = \"{}{}/form4?{}\".format(base_url, cik, query_params)\n",
    "\n",
    "    # Create the request processor\n",
    "    http = httplib2.Http()\n",
    "    response, content = http.request(request_url, 'GET', headers=headers)\n",
    "\n",
    "    # Retrieve the JSON \n",
    "    data = json.loads(content)\n",
    "    \n",
    "    found = True\n",
    "    # get the results\n",
    "    if 'message' in data:\n",
    "        found = False\n",
    "    \n",
    "    return found, data\n"
   ]
  },
  {
   "cell_type": "code",
   "execution_count": null,
   "metadata": {},
   "outputs": [],
   "source": [
    "# Querying for the CIK for their 13F fillings\n",
    "cik_to_query = 320193\n",
    "found, data = get_cik_fillings(base_url, headers, cik=cik_to_query, start=0, size=25)\n",
    "\n",
    "if found:    \n",
    "    for each_filling in data:      \n",
    "        if each_filling['form_type'].startswith('4'):\n",
    "            print(each_filling)\n",
    "else:\n",
    "    print(\"No results found\")"
   ]
  },
  {
   "cell_type": "code",
   "execution_count": null,
   "metadata": {},
   "outputs": [],
   "source": [
    "# Getting the details on 13F fillings\n",
    "cik_to_query = 320193\n",
    "year = 2018\n",
    "month = 11\n",
    "day = 21\n",
    "accnum = '000032019318000149'\n",
    "found, data = get_cik_form4_data(base_url, headers, cik=cik_to_query, year=year, month=month, day=day, accnum=accnum)\n",
    "\n",
    "if found:    \n",
    "    for doc in data:\n",
    "        for key in doc:        \n",
    "            print(key, doc[key])\n",
    "else:\n",
    "    print(\"No results found\")"
   ]
  },
  {
   "cell_type": "code",
   "execution_count": null,
   "metadata": {
    "collapsed": true
   },
   "outputs": [],
   "source": []
  }
 ],
 "metadata": {
  "kernelspec": {
   "display_name": "Python 3",
   "language": "python",
   "name": "python3"
  },
  "language_info": {
   "codemirror_mode": {
    "name": "ipython",
    "version": 3
   },
   "file_extension": ".py",
   "mimetype": "text/x-python",
   "name": "python",
   "nbconvert_exporter": "python",
   "pygments_lexer": "ipython3",
   "version": "3.6.3"
  }
 },
 "nbformat": 4,
 "nbformat_minor": 2
}

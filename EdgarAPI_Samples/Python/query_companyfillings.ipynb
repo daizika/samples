{
 "cells": [
  {
   "cell_type": "markdown",
   "metadata": {},
   "source": [
    "# Daizika Edgar API Demo\n",
    "## Prerequisite: httplib2 https://github.com/httplib2/httplib2"
   ]
  },
  {
   "cell_type": "code",
   "execution_count": null,
   "metadata": {
    "collapsed": true
   },
   "outputs": [],
   "source": [
    "import httplib2\n",
    "from urllib.parse import urlencode, quote\n",
    "import json"
   ]
  },
  {
   "cell_type": "code",
   "execution_count": null,
   "metadata": {
    "collapsed": true
   },
   "outputs": [],
   "source": [
    "# Set the base_url\n",
    "base_url = 'https://api.daizika.com/edgar/test/'\n",
    "\n",
    "# Set your api key\n",
    "x_api_key = 'XXXXXXXXXXXX'\n",
    "\n",
    "# Set your headers\n",
    "headers = {'Accept': 'application/json'\n",
    "         , 'Content-Type': 'application/json; charset=UTF-8'\n",
    "         , 'x-api-key': x_api_key} "
   ]
  },
  {
   "cell_type": "code",
   "execution_count": null,
   "metadata": {
    "collapsed": true
   },
   "outputs": [],
   "source": [
    "def get_all_fillings(base_url, headers, date, offset=0, size=25, form_type=None):    \n",
    "    params = {u\"date\": date, u\"offset\": offset, u\"size\":size}\n",
    "    if form_type is not None:\n",
    "        params[u\"form_type\"] = form_type        \n",
    "    query_params = urlencode(params, quote_via=quote)\n",
    "    request_url = \"{}filling?{}\".format(base_url, query_params)\n",
    "    print('Requesting: {}'.format(request_url))\n",
    "    \n",
    "    # Create the request processor\n",
    "    http = httplib2.Http()\n",
    "    response, content = http.request(request_url, 'GET', headers=headers)\n",
    "\n",
    "    # Retrieve the JSON \n",
    "    data = json.loads(content)\n",
    "\n",
    "    found = False\n",
    "    # get the results\n",
    "    if data is not None:\n",
    "        found = True\n",
    "    \n",
    "    return found, data\n",
    "\n",
    "def get_cik_fillings(base_url, headers, cik, start=0, size=25, form_type=None):    \n",
    "    params = {u\"start\": start, u\"size\":size}\n",
    "    if form_type is not None:\n",
    "        params = {u\"form_type\": form_type}        \n",
    "    query_params = urlencode(params, quote_via=quote)\n",
    "    request_url = \"{}{}/fillings?{}\".format(base_url, cik, query_params)\n",
    "\n",
    "    # Create the request processor\n",
    "    http = httplib2.Http()\n",
    "    response, content = http.request(request_url, 'GET', headers=headers)\n",
    "\n",
    "    # Retrieve the JSON \n",
    "    data = json.loads(content)\n",
    "    \n",
    "    found = True\n",
    "    # get the results\n",
    "    if 'message' in data:\n",
    "        found = False\n",
    "    \n",
    "    return found, data\n",
    "\n",
    "def get_cik_fillings_data(base_url, headers, cik, form, year, qtr):    \n",
    "    params = {u\"form\": form, u\"year\":year, u\"qtr\": qtr}\n",
    "    query_params = urlencode(params, quote_via=quote)\n",
    "    request_url = \"{}{}/fillings/data?{}\".format(base_url, cik, query_params)\n",
    "\n",
    "    # Create the request processor\n",
    "    http = httplib2.Http()\n",
    "    response, content = http.request(request_url, 'GET', headers=headers)\n",
    "\n",
    "    # Retrieve the JSON \n",
    "    data = json.loads(content)\n",
    "    \n",
    "    found = True\n",
    "    # get the results\n",
    "    if 'message' in data:\n",
    "        found = False\n",
    "    \n",
    "    return found, data\n",
    "\n",
    "def get_cik_fillings_statement(base_url, headers, cik, form, year, qtr, doc_id):    \n",
    "    params = {u\"form\": form, u\"year\":year, u\"qtr\": qtr, u\"doc_id\": doc_id}\n",
    "    query_params = urlencode(params, quote_via=quote)\n",
    "    request_url = \"{}{}/fillings/data/statement?{}\".format(base_url, cik, query_params)\n",
    "\n",
    "    # Create the request processor\n",
    "    http = httplib2.Http()\n",
    "    response, content = http.request(request_url, 'GET', headers=headers)\n",
    "\n",
    "    # Retrieve the JSON \n",
    "    data = json.loads(content)\n",
    "    \n",
    "    found = True\n",
    "    # get the results\n",
    "    if 'message' in data:\n",
    "        found = False\n",
    "    \n",
    "    return found, data\n"
   ]
  },
  {
   "cell_type": "code",
   "execution_count": null,
   "metadata": {},
   "outputs": [],
   "source": [
    "# Querying for the CIK\n",
    "date = \"2020-06-01\"\n",
    "offset = 0\n",
    "size = 25\n",
    "form_type = '10-K'\n",
    "found, data = get_all_fillings(base_url, headers, date=date, offset=offset, size=size, form_type=None)\n",
    "\n",
    "if found:    \n",
    "    print(data)\n",
    "else:\n",
    "    print(\"No results found\")"
   ]
  },
  {
   "cell_type": "code",
   "execution_count": null,
   "metadata": {},
   "outputs": [],
   "source": [
    "# Querying for the CIK\n",
    "cik_to_query = 1459417\n",
    "form_type = '10-K'\n",
    "found, data = get_cik_fillings(base_url, headers, cik=cik_to_query, start=10, size=20, form_type=form_type)\n",
    "\n",
    "if found:    \n",
    "    for each_filling in data:            \n",
    "        print(each_filling)\n",
    "else:\n",
    "    print(\"No results found\")"
   ]
  },
  {
   "cell_type": "code",
   "execution_count": null,
   "metadata": {},
   "outputs": [],
   "source": [
    "# Getting the details on 10-K fillings\n",
    "cik_to_query = 1459417 #1594109\n",
    "form_type = '10-K' \n",
    "year = 2014\n",
    "qtr = 0\n",
    "found, data = get_cik_fillings_data(base_url, headers, cik=cik_to_query, form=form_type, year=year, qtr=qtr)\n",
    "\n",
    "if found:    \n",
    "    for each_filling in data:            \n",
    "        print('{}|{}|{}'.format(each_filling['doc_id'], each_filling['doc_name'], each_filling['doc_label']))\n",
    "else:\n",
    "    print(\"No results found\")"
   ]
  },
  {
   "cell_type": "code",
   "execution_count": null,
   "metadata": {},
   "outputs": [],
   "source": [
    "def print_items(level, items):    \n",
    "    print('{}{}'.format(level, items['name']))\n",
    "    if items['abstract'] == 'false' and len(items['data']) > 0:\n",
    "        for each_val in items['data']:\n",
    "            if len(each_val['dimensions']) == 0:\n",
    "                print('...{}{}|{}|{}'.format(level, each_val['endInstant'], each_val['value'], each_val['unitRef']))\n",
    "    if 'items' in items and len(items['items']) > 0:\n",
    "        level += '...'\n",
    "        for key in items['items']:\n",
    "            print_items(level, items['items'][key])\n",
    "\n",
    "# Getting the BalanceSheet on 10-K fillings\n",
    "cik_to_query = 1459417\n",
    "form_type = '10-K' \n",
    "year = 2014\n",
    "qtr = 0\n",
    "doc_id = 3 #doc_id is retrieved from the previous API call\n",
    "\n",
    "found, data = get_cik_fillings_statement(base_url, headers, cik=cik_to_query, form=form_type, year=year, qtr=qtr, doc_id=doc_id)\n",
    "\n",
    "if found:    \n",
    "    print('{}'.format(data['label']))\n",
    "    level = '...'\n",
    "    for key in data['items']:\n",
    "        print_items(level, data['items'][key])\n",
    "else:\n",
    "    print(\"No results found\")"
   ]
  },
  {
   "cell_type": "code",
   "execution_count": null,
   "metadata": {
    "collapsed": true
   },
   "outputs": [],
   "source": []
  }
 ],
 "metadata": {
  "kernelspec": {
   "display_name": "Python 3",
   "language": "python",
   "name": "python3"
  },
  "language_info": {
   "codemirror_mode": {
    "name": "ipython",
    "version": 3
   },
   "file_extension": ".py",
   "mimetype": "text/x-python",
   "name": "python",
   "nbconvert_exporter": "python",
   "pygments_lexer": "ipython3",
   "version": "3.6.3"
  }
 },
 "nbformat": 4,
 "nbformat_minor": 2
}

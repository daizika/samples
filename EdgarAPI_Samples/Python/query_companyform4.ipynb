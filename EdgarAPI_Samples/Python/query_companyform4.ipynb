{
 "cells": [
  {
   "cell_type": "markdown",
   "metadata": {},
   "source": [
    "# Daizika Edgar API Demo\n",
    "## Prerequisite: httplib2 https://github.com/httplib2/httplib2"
   ]
  },
  {
   "cell_type": "code",
   "execution_count": 1,
   "metadata": {
    "collapsed": true
   },
   "outputs": [],
   "source": [
    "import httplib2\n",
    "from urllib.parse import urlencode, quote\n",
    "import json"
   ]
  },
  {
   "cell_type": "code",
   "execution_count": 2,
   "metadata": {
    "collapsed": true
   },
   "outputs": [],
   "source": [
    "# Set the base_url\n",
    "base_url = 'https://api.daizika.com/edgar/prod/'\n",
    "\n",
    "# Set your api key\n",
    "x_api_key = 'XXXXXXXXXX'\n",
    "\n",
    "# Set your headers\n",
    "headers = {'Accept': 'application/json'\n",
    "         , 'Content-Type': 'application/json; charset=UTF-8'\n",
    "         , 'x-api-key': x_api_key} "
   ]
  },
  {
   "cell_type": "code",
   "execution_count": 3,
   "metadata": {
    "collapsed": true
   },
   "outputs": [],
   "source": [
    "def get_cik_fillings(base_url, headers, cik, start=0, size=25):    \n",
    "    params = {u\"start\": start, u\"size\":size}\n",
    "    query_params = urlencode(params, quote_via=quote)\n",
    "    request_url = \"{}{}/fillings?{}\".format(base_url, cik, query_params)\n",
    "\n",
    "    # Create the request processor\n",
    "    http = httplib2.Http()\n",
    "    response, content = http.request(request_url, 'GET', headers=headers)\n",
    "\n",
    "    # Retrieve the JSON \n",
    "    data = json.loads(content)\n",
    "    \n",
    "    found = True\n",
    "    # get the results\n",
    "    if 'message' in data:\n",
    "        found = False\n",
    "    \n",
    "    return found, data\n",
    "\n",
    "def get_cik_form4_data(base_url, headers, cik, year, month, day):    \n",
    "    params = {u\"year\": year, u\"month\":month, u\"day\": day}\n",
    "    query_params = urlencode(params, quote_via=quote)\n",
    "    request_url = \"{}{}/form4?{}\".format(base_url, cik, query_params)\n",
    "\n",
    "    # Create the request processor\n",
    "    http = httplib2.Http()\n",
    "    response, content = http.request(request_url, 'GET', headers=headers)\n",
    "\n",
    "    # Retrieve the JSON \n",
    "    data = json.loads(content)\n",
    "    \n",
    "    found = True\n",
    "    # get the results\n",
    "    if 'message' in data:\n",
    "        found = False\n",
    "    \n",
    "    return found, data\n"
   ]
  },
  {
   "cell_type": "code",
   "execution_count": 5,
   "metadata": {},
   "outputs": [
    {
     "name": "stdout",
     "output_type": "stream",
     "text": [
      "{'start': 1, 'filing_date': '2018-12-26 00:00:00', 'form_type': '4', 'submitted_content': 'https://www.sec.gov/Archives/edgar/data/1000697/0001127602-18-037215.txt', 'html_link': 'https://www.sec.gov/Archives/edgar/data/1000697/0001127602-18-037215-index.html', 'xbrl_link': ''}\n",
      "{'start': 2, 'filing_date': '2018-12-17 00:00:00', 'form_type': '4', 'submitted_content': 'https://www.sec.gov/Archives/edgar/data/1000697/0001127602-18-036330.txt', 'html_link': 'https://www.sec.gov/Archives/edgar/data/1000697/0001127602-18-036330-index.html', 'xbrl_link': ''}\n",
      "{'start': 3, 'filing_date': '2018-12-12 00:00:00', 'form_type': '4', 'submitted_content': 'https://www.sec.gov/Archives/edgar/data/1000697/0001127602-18-035963.txt', 'html_link': 'https://www.sec.gov/Archives/edgar/data/1000697/0001127602-18-035963-index.html', 'xbrl_link': ''}\n",
      "{'start': 4, 'filing_date': '2018-12-12 00:00:00', 'form_type': '4', 'submitted_content': 'https://www.sec.gov/Archives/edgar/data/1000697/0001127602-18-035964.txt', 'html_link': 'https://www.sec.gov/Archives/edgar/data/1000697/0001127602-18-035964-index.html', 'xbrl_link': ''}\n",
      "{'start': 5, 'filing_date': '2018-12-12 00:00:00', 'form_type': '4', 'submitted_content': 'https://www.sec.gov/Archives/edgar/data/1000697/0001127602-18-035969.txt', 'html_link': 'https://www.sec.gov/Archives/edgar/data/1000697/0001127602-18-035969-index.html', 'xbrl_link': ''}\n",
      "{'start': 6, 'filing_date': '2018-12-12 00:00:00', 'form_type': '4', 'submitted_content': 'https://www.sec.gov/Archives/edgar/data/1000697/0001127602-18-035971.txt', 'html_link': 'https://www.sec.gov/Archives/edgar/data/1000697/0001127602-18-035971-index.html', 'xbrl_link': ''}\n",
      "{'start': 7, 'filing_date': '2018-12-12 00:00:00', 'form_type': '4', 'submitted_content': 'https://www.sec.gov/Archives/edgar/data/1000697/0001127602-18-035972.txt', 'html_link': 'https://www.sec.gov/Archives/edgar/data/1000697/0001127602-18-035972-index.html', 'xbrl_link': ''}\n",
      "{'start': 8, 'filing_date': '2018-12-12 00:00:00', 'form_type': '4', 'submitted_content': 'https://www.sec.gov/Archives/edgar/data/1000697/0001127602-18-035973.txt', 'html_link': 'https://www.sec.gov/Archives/edgar/data/1000697/0001127602-18-035973-index.html', 'xbrl_link': ''}\n",
      "{'start': 9, 'filing_date': '2018-12-12 00:00:00', 'form_type': '4', 'submitted_content': 'https://www.sec.gov/Archives/edgar/data/1000697/0001127602-18-035974.txt', 'html_link': 'https://www.sec.gov/Archives/edgar/data/1000697/0001127602-18-035974-index.html', 'xbrl_link': ''}\n",
      "{'start': 10, 'filing_date': '2018-12-12 00:00:00', 'form_type': '4', 'submitted_content': 'https://www.sec.gov/Archives/edgar/data/1000697/0001127602-18-035975.txt', 'html_link': 'https://www.sec.gov/Archives/edgar/data/1000697/0001127602-18-035975-index.html', 'xbrl_link': ''}\n",
      "{'start': 11, 'filing_date': '2018-12-12 00:00:00', 'form_type': '4', 'submitted_content': 'https://www.sec.gov/Archives/edgar/data/1000697/0001127602-18-035986.txt', 'html_link': 'https://www.sec.gov/Archives/edgar/data/1000697/0001127602-18-035986-index.html', 'xbrl_link': ''}\n",
      "{'start': 12, 'filing_date': '2018-12-07 00:00:00', 'form_type': '4', 'submitted_content': 'https://www.sec.gov/Archives/edgar/data/1000697/0001127602-18-035507.txt', 'html_link': 'https://www.sec.gov/Archives/edgar/data/1000697/0001127602-18-035507-index.html', 'xbrl_link': ''}\n",
      "{'start': 13, 'filing_date': '2018-12-07 00:00:00', 'form_type': '4', 'submitted_content': 'https://www.sec.gov/Archives/edgar/data/1000697/0001127602-18-035513.txt', 'html_link': 'https://www.sec.gov/Archives/edgar/data/1000697/0001127602-18-035513-index.html', 'xbrl_link': ''}\n",
      "{'start': 14, 'filing_date': '2018-12-07 00:00:00', 'form_type': '4', 'submitted_content': 'https://www.sec.gov/Archives/edgar/data/1000697/0001127602-18-035539.txt', 'html_link': 'https://www.sec.gov/Archives/edgar/data/1000697/0001127602-18-035539-index.html', 'xbrl_link': ''}\n",
      "{'start': 15, 'filing_date': '2018-12-07 00:00:00', 'form_type': '4', 'submitted_content': 'https://www.sec.gov/Archives/edgar/data/1000697/0001127602-18-035542.txt', 'html_link': 'https://www.sec.gov/Archives/edgar/data/1000697/0001127602-18-035542-index.html', 'xbrl_link': ''}\n",
      "{'start': 16, 'filing_date': '2018-12-07 00:00:00', 'form_type': '4', 'submitted_content': 'https://www.sec.gov/Archives/edgar/data/1000697/0001127602-18-035544.txt', 'html_link': 'https://www.sec.gov/Archives/edgar/data/1000697/0001127602-18-035544-index.html', 'xbrl_link': ''}\n",
      "{'start': 17, 'filing_date': '2018-12-07 00:00:00', 'form_type': '4', 'submitted_content': 'https://www.sec.gov/Archives/edgar/data/1000697/0001127602-18-035546.txt', 'html_link': 'https://www.sec.gov/Archives/edgar/data/1000697/0001127602-18-035546-index.html', 'xbrl_link': ''}\n",
      "{'start': 18, 'filing_date': '2018-11-19 00:00:00', 'form_type': '4', 'submitted_content': 'https://www.sec.gov/Archives/edgar/data/1000697/0001127602-18-033572.txt', 'html_link': 'https://www.sec.gov/Archives/edgar/data/1000697/0001127602-18-033572-index.html', 'xbrl_link': ''}\n",
      "{'start': 20, 'filing_date': '2018-11-01 00:00:00', 'form_type': '4', 'submitted_content': 'https://www.sec.gov/Archives/edgar/data/1000697/0001127602-18-031514.txt', 'html_link': 'https://www.sec.gov/Archives/edgar/data/1000697/0001127602-18-031514-index.html', 'xbrl_link': ''}\n",
      "{'start': 22, 'filing_date': '2018-10-02 00:00:00', 'form_type': '4', 'submitted_content': 'https://www.sec.gov/Archives/edgar/data/1000697/0001127602-18-028960.txt', 'html_link': 'https://www.sec.gov/Archives/edgar/data/1000697/0001127602-18-028960-index.html', 'xbrl_link': ''}\n",
      "{'start': 23, 'filing_date': '2018-10-02 00:00:00', 'form_type': '4', 'submitted_content': 'https://www.sec.gov/Archives/edgar/data/1000697/0001127602-18-028961.txt', 'html_link': 'https://www.sec.gov/Archives/edgar/data/1000697/0001127602-18-028961-index.html', 'xbrl_link': ''}\n",
      "{'start': 24, 'filing_date': '2018-10-02 00:00:00', 'form_type': '4', 'submitted_content': 'https://www.sec.gov/Archives/edgar/data/1000697/0001127602-18-028962.txt', 'html_link': 'https://www.sec.gov/Archives/edgar/data/1000697/0001127602-18-028962-index.html', 'xbrl_link': ''}\n",
      "{'start': 25, 'filing_date': '2018-10-02 00:00:00', 'form_type': '4', 'submitted_content': 'https://www.sec.gov/Archives/edgar/data/1000697/0001127602-18-028963.txt', 'html_link': 'https://www.sec.gov/Archives/edgar/data/1000697/0001127602-18-028963-index.html', 'xbrl_link': ''}\n"
     ]
    }
   ],
   "source": [
    "# Querying for the CIK for their 13F fillings\n",
    "cik_to_query = 1000697\n",
    "found, data = get_cik_fillings(base_url, headers, cik=cik_to_query, start=0, size=25)\n",
    "\n",
    "if found:    \n",
    "    for each_filling in data:      \n",
    "        if each_filling['form_type'].startswith('4'):\n",
    "            print(each_filling)\n",
    "else:\n",
    "    print(\"No results found\")"
   ]
  },
  {
   "cell_type": "code",
   "execution_count": 7,
   "metadata": {},
   "outputs": [
    {
     "name": "stdout",
     "output_type": "stream",
     "text": [
      "TYPE 4\n",
      "SEQUENCE 1\n",
      "FILENAME form4.xml\n",
      "data [{'schemaVersion': 'X0306'}, {'documentType': '4'}, {'periodOfReport': '2018-12-21'}, {'issuer': [[{'issuerCik': '0001000697'}, {'issuerName': 'WATERS CORP /DE/'}, {'issuerTradingSymbol': 'WAT'}]]}, {'reportingOwner': [[{'reportingOwnerId': [[{'rptOwnerCik': '0001184452'}, {'rptOwnerName': 'CONARD EDWARD'}]]}, {'reportingOwnerAddress': [[{'rptOwnerStreet1': '34 MAPLE STREET'}, {'rptOwnerStreet2': None}, {'rptOwnerCity': 'MILFORD'}, {'rptOwnerState': 'MA'}, {'rptOwnerZipCode': '01757'}, {'rptOwnerStateDescription': None}]]}, {'reportingOwnerRelationship': [[{'isDirector': '1'}]]}]]}, {'nonDerivativeTable': [[{'nonDerivativeTransaction': [[{'securityTitle': [[{'value': 'Common Stock'}]]}, {'transactionDate': [[{'value': '2018-12-21'}]]}, {'deemedExecutionDate': [[{'value': '2018-12-21'}]]}, {'transactionCoding': [[{'transactionFormType': '4'}, {'transactionCode': 'M'}, {'equitySwapInvolved': '0'}]]}, {'transactionTimeliness': None}, {'transactionAmounts': [[{'transactionShares': [[{'value': '3500'}]]}, {'transactionPricePerShare': [[{'value': '38.09'}]]}, {'transactionAcquiredDisposedCode': [[{'value': 'A'}]]}]]}, {'postTransactionAmounts': [[{'sharesOwnedFollowingTransaction': [[{'value': '63911'}]]}]]}, {'ownershipNature': [[{'directOrIndirectOwnership': [[{'value': 'D'}]]}]]}]]}]]}, {'derivativeTable': [[{'derivativeTransaction': [[{'securityTitle': [[{'value': 'Stock Option (Right to Buy)'}]]}, {'conversionOrExercisePrice': [[{'value': '38.09'}]]}, {'transactionDate': [[{'value': '2018-12-21'}]]}, {'deemedExecutionDate': [[{'value': '2018-12-21'}]]}, {'transactionCoding': [[{'transactionFormType': '4'}, {'transactionCode': 'M'}, {'equitySwapInvolved': '0'}]]}, {'transactionTimeliness': None}, {'transactionAmounts': [[{'transactionShares': [[{'value': '3500'}]]}, {'transactionPricePerShare': [[{'value': '0'}]]}, {'transactionAcquiredDisposedCode': [[{'value': 'D'}]]}]]}, {'exerciseDate': [[{'value': '2010-01-02'}]]}, {'expirationDate': [[{'value': '2019-01-02'}]]}, {'underlyingSecurity': [[{'underlyingSecurityTitle': [[{'value': 'Common Stock'}]]}, {'underlyingSecurityShares': [[{'value': '3500'}]]}]]}, {'postTransactionAmounts': [[{'sharesOwnedFollowingTransaction': [[{'value': '0'}]]}]]}, {'ownershipNature': [[{'directOrIndirectOwnership': [[{'value': 'D'}]]}]]}]]}]]}, {'footnotes': None}, {'ownerSignature': [[{'signatureName': '/s/ Edward Conard'}, {'signatureDate': '2018-12-26'}]]}]\n"
     ]
    }
   ],
   "source": [
    "# Getting the details on 13F fillings\n",
    "cik_to_query = 1000697\n",
    "year = 2018\n",
    "month = 12\n",
    "day = 26\n",
    "found, data = get_cik_form4_data(base_url, headers, cik=cik_to_query, year=year, month=month, day=day)\n",
    "\n",
    "if found:    \n",
    "    for doc in data:\n",
    "        for key in doc:        \n",
    "            print(key, doc[key])\n",
    "else:\n",
    "    print(\"No results found\")"
   ]
  },
  {
   "cell_type": "code",
   "execution_count": null,
   "metadata": {
    "collapsed": true
   },
   "outputs": [],
   "source": []
  }
 ],
 "metadata": {
  "kernelspec": {
   "display_name": "Python 3",
   "language": "python",
   "name": "python3"
  },
  "language_info": {
   "codemirror_mode": {
    "name": "ipython",
    "version": 3
   },
   "file_extension": ".py",
   "mimetype": "text/x-python",
   "name": "python",
   "nbconvert_exporter": "python",
   "pygments_lexer": "ipython3",
   "version": "3.6.3"
  }
 },
 "nbformat": 4,
 "nbformat_minor": 2
}
